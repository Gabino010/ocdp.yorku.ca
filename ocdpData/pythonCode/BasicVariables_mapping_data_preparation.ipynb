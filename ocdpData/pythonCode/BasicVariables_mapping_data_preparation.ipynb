{
 "cells": [
  {
   "cell_type": "markdown",
   "metadata": {},
   "source": [
    "This program is used to rearange the data from the OCDP data portal, to put the column names"
   ]
  },
  {
   "cell_type": "markdown",
   "metadata": {},
   "source": [
    "Load the necessary libs"
   ]
  },
  {
   "cell_type": "code",
   "execution_count": 13,
   "metadata": {},
   "outputs": [],
   "source": [
    "import pandas as pd"
   ]
  },
  {
   "cell_type": "markdown",
   "metadata": {},
   "source": [
    "Define file names: varName + \n",
    "                  _Ann(ual)+\n",
    "                  _8964Pts(grid points)_RCPs(2.6, 4.5, 6.0, 8.5)+\n",
    "                  _50s80s(2050s,2080s)+\n",
    "                  _Diffs(differences)+\n",
    "                  _EC (reference data is ERA-Interim data for 1986-2005) \n",
    "data columns RCPs Percentiles of change (5,25,50,75,95), and periods (2050s and 2080s), Reference period"
   ]
  },
  {
   "cell_type": "code",
   "execution_count": 14,
   "metadata": {},
   "outputs": [],
   "source": [
    "varNames = ['Tm','Tx','Tn','Pr']\n",
    "MonSeaAnn = ['Jan','Feb','Mar','Apr','May','Jun','Jul','Aug','Sep','Oct','Nov','Dec','Spr','Sum','Aut','Win','Ann']\n",
    "colNames =['id','Longitude','Latitude',\n",
    "           'RCP85_P5_2050s','RCP85_P25_2050s','RCP85_P50_2050s','RCP85_P75_2050s','RCP85_P95_2050s',\n",
    "           'RCP60_P5_2050s','RCP60_P25_2050s','RCP60_P50_2050s','RCP60_P75_2050s','RCP60_P95_2050s',\n",
    "           'RCP45_P5_2050s','RCP45_P25_2050s','RCP45_P50_2050s','RCP45_P75_2050s','RCP45_P95_2050s',\n",
    "           'RCP26_P5_2050s','RCP26_P25_2050s','RCP26_P50_2050s','RCP26_P75_2050s','RCP26_P95_2050s',\n",
    "           'RCP85_P5_2080s','RCP85_P25_2080s','RCP85_P50_2080s','RCP85_P75_2080s','RCP85_P95_2080s',\n",
    "           'RCP60_P5_2080s','RCP60_P25_2080s','RCP60_P50_2080s','RCP60_P75_2080s','RCP60_P95_2080s',\n",
    "           'RCP45_P5_2080s','RCP45_P25_2080s','RCP45_P50_2080s','RCP45_P75_2080s','RCP45_P95_2080s',\n",
    "           'RCP26_P5_2080s','RCP26_P25_2080s','RCP26_P50_2080s','RCP26_P75_2080s','RCP26_P95_2080s',\n",
    "           'REF_1986_2005']"
   ]
  },
  {
   "cell_type": "code",
   "execution_count": 15,
   "metadata": {},
   "outputs": [],
   "source": [
    "for varName in varNames:\n",
    "    for msa in MonSeaAnn:\n",
    "        tmp = 'X:/AAZiwang/Paper/NatureDataDraft/Data2UpLoad/Maps/BasicVariables/' + \\\n",
    "            varName + \\\n",
    "            '_8964Pts_RCPs_' + \\\n",
    "            msa + \\\n",
    "            '_50s80s_Diffs_ECandEC20YMean.csv'\n",
    "        #print(tmp) \n",
    "        tmp1 = '../data/maps/basicVariables/' + \\\n",
    "            varName + \\\n",
    "            '_8964Pts_RCPs_' + \\\n",
    "            msa +  \\\n",
    "            '_8964Pts_RCPs_50s80s_Diffs_EC.csv'\n",
    "        #print(tmp1)    \n",
    "        try:\n",
    "            data = pd.read_csv(tmp,header=None)\n",
    "            data.columns = colNames\n",
    "            data.to_csv(tmp1,index=False)\n",
    "        except:\n",
    "            print('File does not exist')  "
   ]
  }
 ],
 "metadata": {
  "kernelspec": {
   "display_name": "Python 3",
   "language": "python",
   "name": "python3"
  },
  "language_info": {
   "codemirror_mode": {
    "name": "ipython",
    "version": 3
   },
   "file_extension": ".py",
   "mimetype": "text/x-python",
   "name": "python",
   "nbconvert_exporter": "python",
   "pygments_lexer": "ipython3",
   "version": "3.7.4"
  }
 },
 "nbformat": 4,
 "nbformat_minor": 2
}
